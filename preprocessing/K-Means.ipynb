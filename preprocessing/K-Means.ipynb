{
 "cells": [
  {
   "cell_type": "markdown",
   "metadata": {},
   "source": [
    "<h2 align=\"center\">Image Compression with K-means Clustering</h2>"
   ]
  },
  {
   "cell_type": "markdown",
   "metadata": {},
   "source": [
    "**K-means Algorithm**:\n",
    "\n",
    "1. Initialization: Randomly sample $k$ colors from the input image. These are the initial $k$ means $\\mu_1,\\mu_2,...,\\mu_k$.\n",
    "\n",
    "\n",
    "2. For each pixel in the image, assign it to its nearest mean given by $$c^{(i)} := \\textrm{argmin}_{j}\\left \\|x^{(i)} - \\mu_j \\right \\|^2$$\n",
    "\n",
    "\n",
    "3. Update the means using the pixel assignments from Step 2. $$\\mu_j := \\frac{\\sum_{i}^{n}1\\left \\{c^{(i)} = j  \\right \\}x^{(i)}}{\\sum_{i}^{n}1\\left \\{c^{(i)} = j  \\right \\}}$$\n",
    "\n",
    "\n",
    "4. Repeat Steps 2 and 3 until convergence."
   ]
  }
 ],
 "metadata": {
  "kernelspec": {
   "display_name": "Python 3",
   "language": "python",
   "name": "python3"
  },
  "language_info": {
   "codemirror_mode": {
    "name": "ipython",
    "version": 3
   },
   "file_extension": ".py",
   "mimetype": "text/x-python",
   "name": "python",
   "nbconvert_exporter": "python",
   "pygments_lexer": "ipython3",
   "version": "3.6.8"
  }
 },
 "nbformat": 4,
 "nbformat_minor": 2
}
